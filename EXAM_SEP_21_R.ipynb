{
 "cells": [
  {
   "cell_type": "markdown",
   "metadata": {},
   "source": [
    "# Exam R\n",
    "Mark Klik & Misja Mikkers\n",
    "\n",
    "# Introduction\n",
    "\n",
    "Before you turn this problem in, make sure everything runs as expected. First, **restart the kernel** (in the menubar, select Kernel$\\rightarrow$Restart) and then **run all cells** (in the menubar, select Cell$\\rightarrow$Run All).\n",
    "\n",
    "Make sure you fill in any place that says `YOUR CODE HERE` or \"YOUR ANSWER HERE\", as well as your name and collaborators below:\n",
    "\n"
   ]
  },
  {
   "cell_type": "code",
   "execution_count": 1,
   "metadata": {},
   "outputs": [],
   "source": [
    "NAME = \"Vera van den Broek\"\n",
    "COLLABORATORS = \"\""
   ]
  },
  {
   "cell_type": "markdown",
   "metadata": {},
   "source": [
    "Fill in the cell above to provide us with your name and student number, like\n",
    "\n",
    "NAME = \"Adam Smith, #student number#\"\n",
    "\n",
    "where you replace \"#student number#\" with your ... (very good!)\n",
    "\n",
    "Unfortunately, you are not allowed to work with \"COLLABORATORS\" in this exam.\n",
    "\n",
    "## exam September 21th, 2018\n",
    "\n",
    "With this R part of the exam you can earn at max. 4 points.\n",
    "\n",
    "In the first cell of the notebook, give us your name and student number in the way indicated above.\n",
    "\n",
    "Fill in the notebook (see below for code cells and text cells that you need to fill in).\n",
    "\n",
    "If you look at the menus above (File, Edit, View etc.), there is one called \"Cell\". If you click on this, you can change the \"Cell Type\". Choose \"Code\" when you are typing python or R code. Choose \"Markdown\" when you are typing, well, markdown.\n",
    "\n",
    "When you finish the notebook, make sure that you save it with the output of your code included.\n",
    "\n",
    "Then put it on github, e.g. by dragging it onto github (see instructions below).\n",
    "\n",
    "Finally, add a link to your README file with the name of this exam: \"Exam R September 7, 2018\".\n",
    "\n",
    "# Packages\n",
    "\n",
    "You will need the following packages for this exam."
   ]
  },
  {
   "cell_type": "code",
   "execution_count": 25,
   "metadata": {},
   "outputs": [
    {
     "name": "stderr",
     "output_type": "stream",
     "text": [
      "-- Attaching packages --------------------------------------- tidyverse 1.2.1 --\n",
      "<U+221A> ggplot2 2.2.1     <U+221A> purrr   0.2.4\n",
      "<U+221A> tibble  1.4.2     <U+221A> dplyr   0.7.4\n",
      "<U+221A> tidyr   0.8.0     <U+221A> stringr 1.3.0\n",
      "<U+221A> readr   1.1.1     <U+221A> forcats 0.3.0\n",
      "-- Conflicts ------------------------------------------ tidyverse_conflicts() --\n",
      "x dplyr::filter() masks stats::filter()\n",
      "x dplyr::lag()    masks stats::lag()\n"
     ]
    }
   ],
   "source": [
    "library(tidyverse)\n"
   ]
  },
  {
   "cell_type": "markdown",
   "metadata": {},
   "source": [
    "# Assignment 1\n",
    "\n",
    "## Data\n",
    "\n",
    "Please read in \"Medicaid.csv\" and check the structure.\n",
    "\n",
    "If needed change the variables Recipients and Total_costs into a numeric variable.\n",
    "\n",
    "Hint: don't forget you cannot change a factor in a numeric variable directly!\n",
    "\n"
   ]
  },
  {
   "cell_type": "code",
   "execution_count": 26,
   "metadata": {},
   "outputs": [
    {
     "data": {
      "text/html": [
       "<table>\n",
       "<thead><tr><th scope=col>Year</th><th scope=col>Recipients</th><th scope=col>Total_costs</th></tr></thead>\n",
       "<tbody>\n",
       "\t<tr><td>2003       </td><td>4267573    </td><td>36142075737</td></tr>\n",
       "\t<tr><td>2004       </td><td>4594667    </td><td>38926018824</td></tr>\n",
       "\t<tr><td>2005       </td><td>4733617    </td><td>40803778540</td></tr>\n",
       "\t<tr><td>2006       </td><td>4730167    </td><td>40712547369</td></tr>\n",
       "\t<tr><td>2007       </td><td>4622782    </td><td>42127412366</td></tr>\n",
       "\t<tr><td>2008       </td><td>4657242    </td><td>44239141758</td></tr>\n",
       "</tbody>\n",
       "</table>\n"
      ],
      "text/latex": [
       "\\begin{tabular}{r|lll}\n",
       " Year & Recipients & Total\\_costs\\\\\n",
       "\\hline\n",
       "\t 2003        & 4267573     & 36142075737\\\\\n",
       "\t 2004        & 4594667     & 38926018824\\\\\n",
       "\t 2005        & 4733617     & 40803778540\\\\\n",
       "\t 2006        & 4730167     & 40712547369\\\\\n",
       "\t 2007        & 4622782     & 42127412366\\\\\n",
       "\t 2008        & 4657242     & 44239141758\\\\\n",
       "\\end{tabular}\n"
      ],
      "text/markdown": [
       "\n",
       "Year | Recipients | Total_costs | \n",
       "|---|---|---|---|---|---|\n",
       "| 2003        | 4267573     | 36142075737 | \n",
       "| 2004        | 4594667     | 38926018824 | \n",
       "| 2005        | 4733617     | 40803778540 | \n",
       "| 2006        | 4730167     | 40712547369 | \n",
       "| 2007        | 4622782     | 42127412366 | \n",
       "| 2008        | 4657242     | 44239141758 | \n",
       "\n",
       "\n"
      ],
      "text/plain": [
       "  Year Recipients Total_costs\n",
       "1 2003 4267573    36142075737\n",
       "2 2004 4594667    38926018824\n",
       "3 2005 4733617    40803778540\n",
       "4 2006 4730167    40712547369\n",
       "5 2007 4622782    42127412366\n",
       "6 2008 4657242    44239141758"
      ]
     },
     "metadata": {},
     "output_type": "display_data"
    }
   ],
   "source": [
    "df1 <- read.csv2(\"Medicaid.csv\")\n",
    "\n",
    "head(df1)"
   ]
  },
  {
   "cell_type": "code",
   "execution_count": 27,
   "metadata": {},
   "outputs": [],
   "source": [
    "Recipients1 <- as.numeric(as.character(df1$Recipients))\n",
    "Total_costs1 <- as.numeric(as.character(df1$Total_costs))"
   ]
  },
  {
   "cell_type": "markdown",
   "metadata": {},
   "source": [
    "\n",
    "\n",
    "## New variable\n",
    "\n",
    "You will now have to make a new variable called \"Cost_per_Recipient\" by dividing the variable \"Total_Costs\" by the variable \"Recipients\". You will have to use the \"pipe-operator\". You have to show the \"head\" of the dataframe."
   ]
  },
  {
   "cell_type": "code",
   "execution_count": 28,
   "metadata": {},
   "outputs": [
    {
     "data": {
      "text/html": [
       "<table>\n",
       "<thead><tr><th scope=col>Year</th><th scope=col>Recipients</th><th scope=col>Total_costs</th><th scope=col>Cost_per_Recipient</th></tr></thead>\n",
       "<tbody>\n",
       "\t<tr><td>2003       </td><td>4267573    </td><td>36142075737</td><td>8469       </td></tr>\n",
       "\t<tr><td>2004       </td><td>4594667    </td><td>38926018824</td><td>8472       </td></tr>\n",
       "\t<tr><td>2005       </td><td>4733617    </td><td>40803778540</td><td>8620       </td></tr>\n",
       "\t<tr><td>2006       </td><td>4730167    </td><td>40712547369</td><td>8607       </td></tr>\n",
       "\t<tr><td>2007       </td><td>4622782    </td><td>42127412366</td><td>9113       </td></tr>\n",
       "\t<tr><td>2008       </td><td>4657242    </td><td>44239141758</td><td>9499       </td></tr>\n",
       "</tbody>\n",
       "</table>\n"
      ],
      "text/latex": [
       "\\begin{tabular}{r|llll}\n",
       " Year & Recipients & Total\\_costs & Cost\\_per\\_Recipient\\\\\n",
       "\\hline\n",
       "\t 2003        & 4267573     & 36142075737 & 8469       \\\\\n",
       "\t 2004        & 4594667     & 38926018824 & 8472       \\\\\n",
       "\t 2005        & 4733617     & 40803778540 & 8620       \\\\\n",
       "\t 2006        & 4730167     & 40712547369 & 8607       \\\\\n",
       "\t 2007        & 4622782     & 42127412366 & 9113       \\\\\n",
       "\t 2008        & 4657242     & 44239141758 & 9499       \\\\\n",
       "\\end{tabular}\n"
      ],
      "text/markdown": [
       "\n",
       "Year | Recipients | Total_costs | Cost_per_Recipient | \n",
       "|---|---|---|---|---|---|\n",
       "| 2003        | 4267573     | 36142075737 | 8469        | \n",
       "| 2004        | 4594667     | 38926018824 | 8472        | \n",
       "| 2005        | 4733617     | 40803778540 | 8620        | \n",
       "| 2006        | 4730167     | 40712547369 | 8607        | \n",
       "| 2007        | 4622782     | 42127412366 | 9113        | \n",
       "| 2008        | 4657242     | 44239141758 | 9499        | \n",
       "\n",
       "\n"
      ],
      "text/plain": [
       "  Year Recipients Total_costs Cost_per_Recipient\n",
       "1 2003 4267573    36142075737 8469              \n",
       "2 2004 4594667    38926018824 8472              \n",
       "3 2005 4733617    40803778540 8620              \n",
       "4 2006 4730167    40712547369 8607              \n",
       "5 2007 4622782    42127412366 9113              \n",
       "6 2008 4657242    44239141758 9499              "
      ]
     },
     "metadata": {},
     "output_type": "display_data"
    }
   ],
   "source": [
    "Cost_per_Recipient = Total_costs1/Recipients1\n",
    "\n",
    "df2 <- df1 %>%\n",
    "    mutate(Cost_per_Recipient = Cost_per_Recipient)\n",
    "\n",
    "head(df2)"
   ]
  },
  {
   "cell_type": "markdown",
   "metadata": {},
   "source": [
    "## Plot 1\n",
    "\n",
    "Now you have to make a line plot of the data:\n",
    "\n",
    "* with Year on the x-axis\n",
    "* Cost_per_Recipient on the y-axis\n",
    "* The line should have size 3 and the color \"red\"\n",
    "* The name on the Y axis should be \"Cost per enrollee\"\n",
    "\n",
    "\n"
   ]
  },
  {
   "cell_type": "code",
   "execution_count": 66,
   "metadata": {},
   "outputs": [
    {
     "data": {},
     "metadata": {},
     "output_type": "display_data"
    },
    {
     "data": {
      "image/png": "[encoded data removed]",
      "text/plain": [
       "plot without title"
      ]
     },
     "metadata": {},
     "output_type": "display_data"
    }
   ],
   "source": [
    "plot1 <- ggplot(df2, aes(x=Year, y=Cost_per_Recipient, col = \"red\", size = 3)) +\n",
    "   geom_line() + labs(x=\"Year\", y=\"Cost per enrollee\")\n",
    "\n",
    "plot1"
   ]
  },
  {
   "cell_type": "markdown",
   "metadata": {},
   "source": [
    "End of notebook"
   ]
  }
 ],
 "metadata": {
  "anaconda-cloud": {},
  "kernelspec": {
   "display_name": "R",
   "language": "R",
   "name": "ir"
  },
  "language_info": {
   "codemirror_mode": "r",
   "file_extension": ".r",
   "mimetype": "text/x-r-source",
   "name": "R",
   "pygments_lexer": "r",
   "version": "3.3.3"
  }
 },
 "nbformat": 4,
 "nbformat_minor": 1
}
